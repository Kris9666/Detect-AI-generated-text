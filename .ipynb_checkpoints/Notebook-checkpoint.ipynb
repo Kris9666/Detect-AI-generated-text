{
 "cells": [
  {
   "cell_type": "code",
   "execution_count": 1,
   "id": "5ea9db81",
   "metadata": {},
   "outputs": [],
   "source": [
    "import pandas as pd\n",
    "import matplotlib.pyplot as plt"
   ]
  },
  {
   "cell_type": "code",
   "execution_count": 2,
   "id": "30bff558",
   "metadata": {},
   "outputs": [
    {
     "data": {
      "text/plain": [
       "(29145, 2)"
      ]
     },
     "execution_count": 2,
     "metadata": {},
     "output_type": "execute_result"
    }
   ],
   "source": [
    "df = pd.read_csv('Training_Essay_Data.csv')\n",
    "df.shape"
   ]
  },
  {
   "cell_type": "code",
   "execution_count": 3,
   "id": "ac3d5bf2-6943-4581-9388-0c6039d163b1",
   "metadata": {},
   "outputs": [
    {
     "data": {
      "text/html": [
       "<div>\n",
       "<style scoped>\n",
       "    .dataframe tbody tr th:only-of-type {\n",
       "        vertical-align: middle;\n",
       "    }\n",
       "\n",
       "    .dataframe tbody tr th {\n",
       "        vertical-align: top;\n",
       "    }\n",
       "\n",
       "    .dataframe thead th {\n",
       "        text-align: right;\n",
       "    }\n",
       "</style>\n",
       "<table border=\"1\" class=\"dataframe\">\n",
       "  <thead>\n",
       "    <tr style=\"text-align: right;\">\n",
       "      <th></th>\n",
       "      <th>text</th>\n",
       "      <th>generated</th>\n",
       "    </tr>\n",
       "  </thead>\n",
       "  <tbody>\n",
       "    <tr>\n",
       "      <th>27861</th>\n",
       "      <td>The Electoral College is an outdated system of...</td>\n",
       "      <td>0</td>\n",
       "    </tr>\n",
       "    <tr>\n",
       "      <th>21354</th>\n",
       "      <td>There are a few different ways to look at this...</td>\n",
       "      <td>1</td>\n",
       "    </tr>\n",
       "    <tr>\n",
       "      <th>21355</th>\n",
       "      <td>There are two schools of thought when it comes...</td>\n",
       "      <td>1</td>\n",
       "    </tr>\n",
       "    <tr>\n",
       "      <th>24323</th>\n",
       "      <td>Education is one of the most important investm...</td>\n",
       "      <td>1</td>\n",
       "    </tr>\n",
       "    <tr>\n",
       "      <th>26665</th>\n",
       "      <td>From the moment I first stepped into my grandm...</td>\n",
       "      <td>1</td>\n",
       "    </tr>\n",
       "    <tr>\n",
       "      <th>12272</th>\n",
       "      <td>Dear Senator Don Gates,\\n\\nThere has been many...</td>\n",
       "      <td>0</td>\n",
       "    </tr>\n",
       "    <tr>\n",
       "      <th>8261</th>\n",
       "      <td>\"Making Mona Lisa Smile,\" with the facial acti...</td>\n",
       "      <td>0</td>\n",
       "    </tr>\n",
       "    <tr>\n",
       "      <th>14216</th>\n",
       "      <td>lets say that you need to make a choice about ...</td>\n",
       "      <td>0</td>\n",
       "    </tr>\n",
       "    <tr>\n",
       "      <th>10069</th>\n",
       "      <td>People that think that the face was created by...</td>\n",
       "      <td>0</td>\n",
       "    </tr>\n",
       "    <tr>\n",
       "      <th>26551</th>\n",
       "      <td>The resurgence of vinyl as a music medium is o...</td>\n",
       "      <td>1</td>\n",
       "    </tr>\n",
       "  </tbody>\n",
       "</table>\n",
       "</div>"
      ],
      "text/plain": [
       "                                                    text  generated\n",
       "27861  The Electoral College is an outdated system of...          0\n",
       "21354  There are a few different ways to look at this...          1\n",
       "21355  There are two schools of thought when it comes...          1\n",
       "24323  Education is one of the most important investm...          1\n",
       "26665  From the moment I first stepped into my grandm...          1\n",
       "12272  Dear Senator Don Gates,\\n\\nThere has been many...          0\n",
       "8261   \"Making Mona Lisa Smile,\" with the facial acti...          0\n",
       "14216  lets say that you need to make a choice about ...          0\n",
       "10069  People that think that the face was created by...          0\n",
       "26551  The resurgence of vinyl as a music medium is o...          1"
      ]
     },
     "execution_count": 3,
     "metadata": {},
     "output_type": "execute_result"
    }
   ],
   "source": [
    "df.sample(10)"
   ]
  },
  {
   "cell_type": "code",
   "execution_count": 4,
   "id": "a42cfb03-22cc-47f5-bad2-796449f06bc7",
   "metadata": {},
   "outputs": [
    {
     "data": {
      "text/plain": [
       "text         0\n",
       "generated    0\n",
       "dtype: int64"
      ]
     },
     "execution_count": 4,
     "metadata": {},
     "output_type": "execute_result"
    }
   ],
   "source": [
    "df.isnull().sum()"
   ]
  },
  {
   "cell_type": "code",
   "execution_count": 5,
   "id": "c0ca762f-0260-49bc-98c2-3fafb1ee193f",
   "metadata": {},
   "outputs": [
    {
     "data": {
      "text/html": [
       "<div>\n",
       "<style scoped>\n",
       "    .dataframe tbody tr th:only-of-type {\n",
       "        vertical-align: middle;\n",
       "    }\n",
       "\n",
       "    .dataframe tbody tr th {\n",
       "        vertical-align: top;\n",
       "    }\n",
       "\n",
       "    .dataframe thead th {\n",
       "        text-align: right;\n",
       "    }\n",
       "</style>\n",
       "<table border=\"1\" class=\"dataframe\">\n",
       "  <thead>\n",
       "    <tr style=\"text-align: right;\">\n",
       "      <th></th>\n",
       "      <th>generated</th>\n",
       "    </tr>\n",
       "  </thead>\n",
       "  <tbody>\n",
       "    <tr>\n",
       "      <th>count</th>\n",
       "      <td>29145.000000</td>\n",
       "    </tr>\n",
       "    <tr>\n",
       "      <th>mean</th>\n",
       "      <td>0.399279</td>\n",
       "    </tr>\n",
       "    <tr>\n",
       "      <th>std</th>\n",
       "      <td>0.489759</td>\n",
       "    </tr>\n",
       "    <tr>\n",
       "      <th>min</th>\n",
       "      <td>0.000000</td>\n",
       "    </tr>\n",
       "    <tr>\n",
       "      <th>25%</th>\n",
       "      <td>0.000000</td>\n",
       "    </tr>\n",
       "    <tr>\n",
       "      <th>50%</th>\n",
       "      <td>0.000000</td>\n",
       "    </tr>\n",
       "    <tr>\n",
       "      <th>75%</th>\n",
       "      <td>1.000000</td>\n",
       "    </tr>\n",
       "    <tr>\n",
       "      <th>max</th>\n",
       "      <td>1.000000</td>\n",
       "    </tr>\n",
       "  </tbody>\n",
       "</table>\n",
       "</div>"
      ],
      "text/plain": [
       "          generated\n",
       "count  29145.000000\n",
       "mean       0.399279\n",
       "std        0.489759\n",
       "min        0.000000\n",
       "25%        0.000000\n",
       "50%        0.000000\n",
       "75%        1.000000\n",
       "max        1.000000"
      ]
     },
     "execution_count": 5,
     "metadata": {},
     "output_type": "execute_result"
    }
   ],
   "source": [
    "df.describe()"
   ]
  },
  {
   "cell_type": "code",
   "execution_count": 6,
   "id": "9a16e014-bd92-47b1-9cc5-ea5e377503d0",
   "metadata": {},
   "outputs": [
    {
     "data": {
      "text/plain": [
       "0    17508\n",
       "1    11637\n",
       "Name: generated, dtype: int64"
      ]
     },
     "execution_count": 6,
     "metadata": {},
     "output_type": "execute_result"
    }
   ],
   "source": [
    "df['generated'].value_counts()"
   ]
  },
  {
   "cell_type": "code",
   "execution_count": 7,
   "id": "e7436967-a075-41a6-85d3-4d2f4865fa51",
   "metadata": {},
   "outputs": [
    {
     "data": {
      "text/plain": [
       "0    17508\n",
       "1    11637\n",
       "Name: label, dtype: int64"
      ]
     },
     "execution_count": 7,
     "metadata": {},
     "output_type": "execute_result"
    }
   ],
   "source": [
    "df = df.rename(columns={'generated': 'label'})\n",
    "df['label'].value_counts()"
   ]
  },
  {
   "cell_type": "code",
   "execution_count": 8,
   "id": "b7344757-9d03-45b9-9bd4-25579b3b7334",
   "metadata": {},
   "outputs": [
    {
     "data": {
      "image/png": "[encoded data removed]",
      "text/plain": [
       "<Figure size 200x200 with 1 Axes>"
      ]
     },
     "metadata": {},
     "output_type": "display_data"
    }
   ],
   "source": [
    "label_outcomes = df['label'].value_counts()\n",
    "\n",
    "plt.figure(figsize=(2,2))\n",
    "plt.pie(label_outcomes, labels=label_outcomes.index, autopct='%1.1f%%', startangle=140)\n",
    "plt.title('Label Outcomes')\n",
    "plt.show()"
   ]
  },
  {
   "cell_type": "markdown",
   "id": "ce193e62-4502-4e55-bc88-d8f3b58e6cb4",
   "metadata": {},
   "source": [
    "As we can see now, \n",
    "we have AI generated text sample is 40%. "
   ]
  },
  {
   "cell_type": "code",
   "execution_count": 10,
   "id": "24802e60-a73a-4f79-b2f3-2a9607434607",
   "metadata": {},
   "outputs": [
    {
     "data": {
      "text/plain": [
       "0    17508\n",
       "1    11637\n",
       "Name: label, dtype: int64"
      ]
     },
     "execution_count": 10,
     "metadata": {},
     "output_type": "execute_result"
    }
   ],
   "source": [
    "df['label'].value_counts()"
   ]
  },
  {
   "cell_type": "code",
   "execution_count": 11,
   "id": "ee365963-59c7-4f63-8344-488c945859e6",
   "metadata": {},
   "outputs": [
    {
     "data": {
      "text/plain": [
       "\"Car-free cities have become a subject of increasing interest and debate in recent years, as urban areas around the world grapple with the challenges of congestion, pollution, and limited resources. The concept of a car-free city involves creating urban environments where private automobiles are either significantly restricted or completely banned, with a focus on alternative transportation methods and sustainable urban planning. This essay explores the benefits, challenges, and potential solutions associated with the idea of car-free cities.  Benefits of Car-Free Cities  Environmental Sustainability: Car-free cities promote environmental sustainability by reducing air pollution and greenhouse gas emissions. Fewer cars on the road mean cleaner air and a significant decrease in the contribution to global warming.  Improved Public Health: A reduction in automobile usage can lead to better public health outcomes. Fewer cars on the road result in fewer accidents and a safer urban environment for pedestrians and cyclists. Moreover, less air pollution can lead to reduced respiratory and cardiovascular problems.  Efficient Use of Space: Car-free cities utilize urban space more efficiently. Parking lots and wide roads can be repurposed for green spaces, parks, and pedestrian zones, enhancing the overall quality of life in the city.  Reduced Traffic Congestion: By eliminating or restricting car usage, traffic congestion is significantly reduced, leading to faster commute times and less frustration for residents and commuters.  Cost Savings: Car ownership and maintenance can be expensive. Car-free cities allow residents to save money on vehicles, fuel, and insurance, improving their overall financial well-being.  Challenges of Car-Free Cities  Resistance to Change: Transitioning to a car-free city can face resistance from citizens, especially those who rely heavily on their cars for daily activities and commutes.  Public Transportation Infrastructure: An effective public transportation system is crucial for the success of car-free cities. Cities need to invest in and expand their public transportation networks to ensure that people have viable alternatives to cars.  Economic Impact: Businesses that rely on car-dependent customers may experience a decline in revenue in a car-free city. It's essential to address this economic impact and find ways to support affected businesses during the transition.  Urban Planning and Infrastructure: The redesign of urban areas for car-free living requires significant planning and investment in infrastructure, which can be a lengthy and complex process.  Solutions for Car-Free Cities  Expand Public Transportation: Invest in the expansion and improvement of public transportation systems to provide convenient and affordable alternatives to private cars.  Promote Active Transportation: Encourage walking and cycling by building bike lanes, pedestrian-friendly streets, and ensuring safe infrastructure for these activities.  Implement Carpooling and Ride-Sharing: Promote carpooling and ride-sharing services to reduce the number of private vehicles on the road.  Adopt Electric and Sustainable Transportation: Encourage the use of electric vehicles and promote sustainability by using renewable energy sources to power transportation.  Education and Public Awareness: Educate citizens about the benefits of a car-free city and involve them in the planning process to increase support and understanding.  Conclusion  Car-free cities represent a vision for a sustainable and healthier urban future. While the transition to a car-free city is not without challenges, the potential benefits in terms of environmental sustainability, public health, and efficient urban living make it a compelling goal. Through a combination of investment in public transportation, promotion of alternative transportation methods, and public engagement, cities can work towards a future where cars are no longer the dominant mode of transportation. Car-free cities offer a promising vision of a more sustainable and vibrant urban environment.\""
      ]
     },
     "execution_count": 11,
     "metadata": {},
     "output_type": "execute_result"
    }
   ],
   "source": [
    "df['text'][0]"
   ]
  },
  {
   "cell_type": "markdown",
   "id": "374bc3ce-b7c8-4aea-8246-95e0d5d12026",
   "metadata": {},
   "source": [
    "## Modelling without pre-processed data"
   ]
  },
  {
   "cell_type": "code",
   "execution_count": 12,
   "id": "53f81d35-1d9a-439c-87cc-376ba35f3a5b",
   "metadata": {},
   "outputs": [],
   "source": [
    "from sklearn.model_selection import train_test_split\n",
    "X_train, X_test, y_train, y_test = train_test_split(df['text'], df['label'], test_size=0.2, random_state=2023)"
   ]
  },
  {
   "cell_type": "code",
   "execution_count": 13,
   "id": "4c85323d-52c1-45c8-9c07-07115b12af06",
   "metadata": {},
   "outputs": [
    {
     "data": {
      "text/plain": [
       "23316"
      ]
     },
     "execution_count": 13,
     "metadata": {},
     "output_type": "execute_result"
    }
   ],
   "source": [
    "len(X_train)"
   ]
  },
  {
   "cell_type": "code",
   "execution_count": 14,
   "id": "4e3eae1a-992f-4350-a59e-dd31c6c29d06",
   "metadata": {},
   "outputs": [
    {
     "data": {
      "text/plain": [
       "5829"
      ]
     },
     "execution_count": 14,
     "metadata": {},
     "output_type": "execute_result"
    }
   ],
   "source": [
    "len(X_test)"
   ]
  },
  {
   "cell_type": "code",
   "execution_count": 15,
   "id": "f17185a1-097c-4728-b8ce-66ca3ea44d54",
   "metadata": {},
   "outputs": [
    {
     "data": {
      "text/plain": [
       "0    3389\n",
       "1    2440\n",
       "Name: label, dtype: int64"
      ]
     },
     "execution_count": 15,
     "metadata": {},
     "output_type": "execute_result"
    }
   ],
   "source": [
    "y_test.value_counts()"
   ]
  },
  {
   "cell_type": "code",
   "execution_count": 16,
   "id": "429b7854-3753-4817-a230-61ff27e45a4e",
   "metadata": {},
   "outputs": [
    {
     "data": {
      "text/plain": [
       "0    14119\n",
       "1     9197\n",
       "Name: label, dtype: int64"
      ]
     },
     "execution_count": 16,
     "metadata": {},
     "output_type": "execute_result"
    }
   ],
   "source": [
    "y_train.value_counts()"
   ]
  },
  {
   "cell_type": "code",
   "execution_count": 17,
   "id": "8d47926e-a4c5-4e75-9a5a-95e992ca3037",
   "metadata": {},
   "outputs": [
    {
     "name": "stdout",
     "output_type": "stream",
     "text": [
      "              precision    recall  f1-score   support\n",
      "\n",
      "           0       0.98      1.00      0.99      3389\n",
      "           1       1.00      0.97      0.98      2440\n",
      "\n",
      "    accuracy                           0.99      5829\n",
      "   macro avg       0.99      0.98      0.99      5829\n",
      "weighted avg       0.99      0.99      0.99      5829\n",
      "\n"
     ]
    }
   ],
   "source": [
    "from sklearn.feature_extraction.text import CountVectorizer\n",
    "from sklearn.ensemble import RandomForestClassifier\n",
    "from sklearn.pipeline import Pipeline\n",
    "from sklearn.metrics import classification_report\n",
    "\n",
    "clf1 = Pipeline([\n",
    "    ('vectorizer', CountVectorizer()),\n",
    "    ('random', RandomForestClassifier())\n",
    "])\n",
    "\n",
    "clf1.fit(X_train, y_train)\n",
    "y_pred = clf1.predict(X_test)\n",
    "print(classification_report(y_test, y_pred))"
   ]
  },
  {
   "cell_type": "code",
   "execution_count": 18,
   "id": "b3018b50-e2ca-40bf-a135-a881953e43a0",
   "metadata": {},
   "outputs": [
    {
     "name": "stdout",
     "output_type": "stream",
     "text": [
      "              precision    recall  f1-score   support\n",
      "\n",
      "           0       0.98      1.00      0.99      3389\n",
      "           1       1.00      0.97      0.98      2440\n",
      "\n",
      "    accuracy                           0.98      5829\n",
      "   macro avg       0.99      0.98      0.98      5829\n",
      "weighted avg       0.99      0.98      0.98      5829\n",
      "\n"
     ]
    }
   ],
   "source": [
    "from sklearn.feature_extraction.text import TfidfVectorizer\n",
    "\n",
    "clf2 = Pipeline([\n",
    "    ('vectorizer', TfidfVectorizer()),\n",
    "    ('random', RandomForestClassifier())\n",
    "])\n",
    "\n",
    "clf2.fit(X_train, y_train)\n",
    "y_pred = clf2.predict(X_test)\n",
    "print(classification_report(y_test, y_pred))"
   ]
  },
  {
   "cell_type": "code",
   "execution_count": 19,
   "id": "3a0971ac-aa4c-4732-a1e1-7c35a9b505b7",
   "metadata": {},
   "outputs": [
    {
     "name": "stdout",
     "output_type": "stream",
     "text": [
      "              precision    recall  f1-score   support\n",
      "\n",
      "           0       0.97      0.99      0.98      3389\n",
      "           1       0.99      0.96      0.97      2440\n",
      "\n",
      "    accuracy                           0.98      5829\n",
      "   macro avg       0.98      0.97      0.98      5829\n",
      "weighted avg       0.98      0.98      0.98      5829\n",
      "\n"
     ]
    }
   ],
   "source": [
    "from sklearn.naive_bayes import MultinomialNB\n",
    "\n",
    "clf3 = Pipeline([\n",
    "    ('vectorizer', CountVectorizer()),\n",
    "    ('multi_nb', MultinomialNB())\n",
    "])\n",
    "clf3.fit(X_train, y_train)\n",
    "y_pred = clf3.predict(X_test)\n",
    "print(classification_report(y_test, y_pred))"
   ]
  },
  {
   "cell_type": "markdown",
   "id": "35e9b548-6d55-47ad-9fb7-70f18aafb776",
   "metadata": {},
   "source": [
    "## Modelling with Pre-processed Data"
   ]
  },
  {
   "cell_type": "code",
   "execution_count": 20,
   "id": "e18adf02-6e6b-4086-a2fc-6fb379d49f86",
   "metadata": {},
   "outputs": [],
   "source": [
    "import spacy\n",
    "nlp = spacy.load(\"en_core_web_sm\")\n",
    "\n",
    "def preprocess(text):\n",
    "    doc = nlp(text)\n",
    "    filtered_token = []\n",
    "    for token in doc:\n",
    "        if token.is_stop or token.is_punct:\n",
    "            continue\n",
    "        filtered_token.append(token.lemma_)\n",
    "    return \" \".join(filtered_token)"
   ]
  },
  {
   "cell_type": "code",
   "execution_count": 21,
   "id": "881acc31-56b5-494f-a6a7-27ecfe3d7b96",
   "metadata": {},
   "outputs": [
    {
     "data": {
      "text/plain": [
       "'ram good boy intelligent'"
      ]
     },
     "execution_count": 21,
     "metadata": {},
     "output_type": "execute_result"
    }
   ],
   "source": [
    "# preprocess(\"Hey! How are you and what are you doing?\")\n",
    "preprocess(\"Ram! is a good boy and he is very doing intelligent\")"
   ]
  },
  {
   "cell_type": "code",
   "execution_count": 23,
   "id": "8f776981-6fd8-47df-8825-b0456395c2ab",
   "metadata": {},
   "outputs": [
    {
     "data": {
      "text/html": [
       "<div>\n",
       "<style scoped>\n",
       "    .dataframe tbody tr th:only-of-type {\n",
       "        vertical-align: middle;\n",
       "    }\n",
       "\n",
       "    .dataframe tbody tr th {\n",
       "        vertical-align: top;\n",
       "    }\n",
       "\n",
       "    .dataframe thead th {\n",
       "        text-align: right;\n",
       "    }\n",
       "</style>\n",
       "<table border=\"1\" class=\"dataframe\">\n",
       "  <thead>\n",
       "    <tr style=\"text-align: right;\">\n",
       "      <th></th>\n",
       "      <th>text</th>\n",
       "      <th>label</th>\n",
       "      <th>preprocessed_text</th>\n",
       "    </tr>\n",
       "  </thead>\n",
       "  <tbody>\n",
       "    <tr>\n",
       "      <th>0</th>\n",
       "      <td>Car-free cities have become a subject of incre...</td>\n",
       "      <td>1</td>\n",
       "      <td>car free city subject increase interest debate...</td>\n",
       "    </tr>\n",
       "    <tr>\n",
       "      <th>1</th>\n",
       "      <td>Car Free Cities  Car-free cities, a concept ga...</td>\n",
       "      <td>1</td>\n",
       "      <td>Car Free Cities   car free city concept gain t...</td>\n",
       "    </tr>\n",
       "    <tr>\n",
       "      <th>2</th>\n",
       "      <td>A Sustainable Urban Future  Car-free cities ...</td>\n",
       "      <td>1</td>\n",
       "      <td>sustainable Urban Future   car free city em...</td>\n",
       "    </tr>\n",
       "    <tr>\n",
       "      <th>3</th>\n",
       "      <td>Pioneering Sustainable Urban Living  In an e...</td>\n",
       "      <td>1</td>\n",
       "      <td>Pioneering Sustainable Urban Living   era m...</td>\n",
       "    </tr>\n",
       "    <tr>\n",
       "      <th>4</th>\n",
       "      <td>The Path to Sustainable Urban Living  In an ...</td>\n",
       "      <td>1</td>\n",
       "      <td>Path sustainable Urban Living   age rapid u...</td>\n",
       "    </tr>\n",
       "    <tr>\n",
       "      <th>...</th>\n",
       "      <td>...</td>\n",
       "      <td>...</td>\n",
       "      <td>...</td>\n",
       "    </tr>\n",
       "    <tr>\n",
       "      <th>29140</th>\n",
       "      <td>There has been a fuss about the Elector Colleg...</td>\n",
       "      <td>0</td>\n",
       "      <td>fuss Elector College people confused work sati...</td>\n",
       "    </tr>\n",
       "    <tr>\n",
       "      <th>29141</th>\n",
       "      <td>Limiting car usage has many advantages. Such a...</td>\n",
       "      <td>0</td>\n",
       "      <td>limit car usage advantage put lot pollution ai...</td>\n",
       "    </tr>\n",
       "    <tr>\n",
       "      <th>29142</th>\n",
       "      <td>There's a new trend that has been developing f...</td>\n",
       "      <td>0</td>\n",
       "      <td>new trend develop year soon throttle affect ma...</td>\n",
       "    </tr>\n",
       "    <tr>\n",
       "      <th>29143</th>\n",
       "      <td>As we all know cars are a big part of our soci...</td>\n",
       "      <td>0</td>\n",
       "      <td>know car big society today car big impact thin...</td>\n",
       "    </tr>\n",
       "    <tr>\n",
       "      <th>29144</th>\n",
       "      <td>Cars have been around since the 1800's and hav...</td>\n",
       "      <td>0</td>\n",
       "      <td>car 1800 popular recent year number car buy li...</td>\n",
       "    </tr>\n",
       "  </tbody>\n",
       "</table>\n",
       "<p>29145 rows × 3 columns</p>\n",
       "</div>"
      ],
      "text/plain": [
       "                                                    text  label  \\\n",
       "0      Car-free cities have become a subject of incre...      1   \n",
       "1      Car Free Cities  Car-free cities, a concept ga...      1   \n",
       "2        A Sustainable Urban Future  Car-free cities ...      1   \n",
       "3        Pioneering Sustainable Urban Living  In an e...      1   \n",
       "4        The Path to Sustainable Urban Living  In an ...      1   \n",
       "...                                                  ...    ...   \n",
       "29140  There has been a fuss about the Elector Colleg...      0   \n",
       "29141  Limiting car usage has many advantages. Such a...      0   \n",
       "29142  There's a new trend that has been developing f...      0   \n",
       "29143  As we all know cars are a big part of our soci...      0   \n",
       "29144  Cars have been around since the 1800's and hav...      0   \n",
       "\n",
       "                                       preprocessed_text  \n",
       "0      car free city subject increase interest debate...  \n",
       "1      Car Free Cities   car free city concept gain t...  \n",
       "2         sustainable Urban Future   car free city em...  \n",
       "3         Pioneering Sustainable Urban Living   era m...  \n",
       "4         Path sustainable Urban Living   age rapid u...  \n",
       "...                                                  ...  \n",
       "29140  fuss Elector College people confused work sati...  \n",
       "29141  limit car usage advantage put lot pollution ai...  \n",
       "29142  new trend develop year soon throttle affect ma...  \n",
       "29143  know car big society today car big impact thin...  \n",
       "29144  car 1800 popular recent year number car buy li...  \n",
       "\n",
       "[29145 rows x 3 columns]"
      ]
     },
     "execution_count": 23,
     "metadata": {},
     "output_type": "execute_result"
    }
   ],
   "source": [
    "df['preprocessed_text'] = df['text'].apply(preprocess)\n",
    "df"
   ]
  },
  {
   "cell_type": "code",
   "execution_count": 24,
   "id": "e61841b5-f658-44ae-8a96-92aca7b59c48",
   "metadata": {},
   "outputs": [
    {
     "data": {
      "text/plain": [
       "\"Car-free cities have become a subject of increasing interest and debate in recent years, as urban areas around the world grapple with the challenges of congestion, pollution, and limited resources. The concept of a car-free city involves creating urban environments where private automobiles are either significantly restricted or completely banned, with a focus on alternative transportation methods and sustainable urban planning. This essay explores the benefits, challenges, and potential solutions associated with the idea of car-free cities.  Benefits of Car-Free Cities  Environmental Sustainability: Car-free cities promote environmental sustainability by reducing air pollution and greenhouse gas emissions. Fewer cars on the road mean cleaner air and a significant decrease in the contribution to global warming.  Improved Public Health: A reduction in automobile usage can lead to better public health outcomes. Fewer cars on the road result in fewer accidents and a safer urban environment for pedestrians and cyclists. Moreover, less air pollution can lead to reduced respiratory and cardiovascular problems.  Efficient Use of Space: Car-free cities utilize urban space more efficiently. Parking lots and wide roads can be repurposed for green spaces, parks, and pedestrian zones, enhancing the overall quality of life in the city.  Reduced Traffic Congestion: By eliminating or restricting car usage, traffic congestion is significantly reduced, leading to faster commute times and less frustration for residents and commuters.  Cost Savings: Car ownership and maintenance can be expensive. Car-free cities allow residents to save money on vehicles, fuel, and insurance, improving their overall financial well-being.  Challenges of Car-Free Cities  Resistance to Change: Transitioning to a car-free city can face resistance from citizens, especially those who rely heavily on their cars for daily activities and commutes.  Public Transportation Infrastructure: An effective public transportation system is crucial for the success of car-free cities. Cities need to invest in and expand their public transportation networks to ensure that people have viable alternatives to cars.  Economic Impact: Businesses that rely on car-dependent customers may experience a decline in revenue in a car-free city. It's essential to address this economic impact and find ways to support affected businesses during the transition.  Urban Planning and Infrastructure: The redesign of urban areas for car-free living requires significant planning and investment in infrastructure, which can be a lengthy and complex process.  Solutions for Car-Free Cities  Expand Public Transportation: Invest in the expansion and improvement of public transportation systems to provide convenient and affordable alternatives to private cars.  Promote Active Transportation: Encourage walking and cycling by building bike lanes, pedestrian-friendly streets, and ensuring safe infrastructure for these activities.  Implement Carpooling and Ride-Sharing: Promote carpooling and ride-sharing services to reduce the number of private vehicles on the road.  Adopt Electric and Sustainable Transportation: Encourage the use of electric vehicles and promote sustainability by using renewable energy sources to power transportation.  Education and Public Awareness: Educate citizens about the benefits of a car-free city and involve them in the planning process to increase support and understanding.  Conclusion  Car-free cities represent a vision for a sustainable and healthier urban future. While the transition to a car-free city is not without challenges, the potential benefits in terms of environmental sustainability, public health, and efficient urban living make it a compelling goal. Through a combination of investment in public transportation, promotion of alternative transportation methods, and public engagement, cities can work towards a future where cars are no longer the dominant mode of transportation. Car-free cities offer a promising vision of a more sustainable and vibrant urban environment.\""
      ]
     },
     "execution_count": 24,
     "metadata": {},
     "output_type": "execute_result"
    }
   ],
   "source": [
    "df['text'][0]"
   ]
  },
  {
   "cell_type": "code",
   "execution_count": 25,
   "id": "799c221d-5f5e-4166-8bbf-7032d3939fe6",
   "metadata": {},
   "outputs": [
    {
     "data": {
      "text/plain": [
       "'car free city subject increase interest debate recent year urban area world grapple challenge congestion pollution limited resource concept car free city involve create urban environment private automobile significantly restrict completely ban focus alternative transportation method sustainable urban planning essay explore benefit challenge potential solution associate idea car free city   benefit Car Free Cities   Environmental Sustainability car free city promote environmental sustainability reduce air pollution greenhouse gas emission few car road mean clean air significant decrease contribution global warming   improve Public Health reduction automobile usage lead well public health outcome few car road result few accident safe urban environment pedestrian cyclist air pollution lead reduce respiratory cardiovascular problem   Efficient Use Space car free city utilize urban space efficiently parking lot wide road repurpose green space park pedestrian zone enhance overall quality life city   Reduced Traffic Congestion eliminate restrict car usage traffic congestion significantly reduce lead fast commute time frustration resident commuter   Cost Savings car ownership maintenance expensive car free city allow resident save money vehicle fuel insurance improve overall financial   challenge Car Free Cities   Resistance Change transition car free city face resistance citizen especially rely heavily car daily activity commute   Public Transportation Infrastructure effective public transportation system crucial success car free city city need invest expand public transportation network ensure people viable alternative car   Economic Impact business rely car dependent customer experience decline revenue car free city essential address economic impact find way support affected business transition   Urban Planning Infrastructure redesign urban area car free living require significant planning investment infrastructure lengthy complex process   solution Car Free Cities   Expand Public Transportation invest expansion improvement public transportation system provide convenient affordable alternative private car   Promote Active Transportation encourage walk cycling build bike lane pedestrian friendly street ensure safe infrastructure activity   Implement Carpooling Ride Sharing promote carpoole ride share service reduce number private vehicle road   Adopt Electric Sustainable Transportation encourage use electric vehicle promote sustainability renewable energy source power transportation   Education Public Awareness educate citizen benefit car free city involve planning process increase support understanding   Conclusion   car free city represent vision sustainable healthy urban future transition car free city challenge potential benefit term environmental sustainability public health efficient urban living compelling goal combination investment public transportation promotion alternative transportation method public engagement city work future car long dominant mode transportation car free city offer promising vision sustainable vibrant urban environment'"
      ]
     },
     "execution_count": 25,
     "metadata": {},
     "output_type": "execute_result"
    }
   ],
   "source": [
    "df['preprocessed_text'][0]"
   ]
  },
  {
   "cell_type": "code",
   "execution_count": 26,
   "id": "cfd6750b-a735-4e4a-86d6-cbb61ab8cc2e",
   "metadata": {},
   "outputs": [],
   "source": [
    "X_train, X_test, y_train, y_test = train_test_split(df['preprocessed_text'], df['label'], test_size=0.2, random_state=2023)"
   ]
  },
  {
   "cell_type": "code",
   "execution_count": 27,
   "id": "97855c5b-b6c1-4777-8d11-b9e270dc32d6",
   "metadata": {},
   "outputs": [
    {
     "data": {
      "text/plain": [
       "23316"
      ]
     },
     "execution_count": 27,
     "metadata": {},
     "output_type": "execute_result"
    }
   ],
   "source": [
    "len(X_train)"
   ]
  },
  {
   "cell_type": "code",
   "execution_count": 28,
   "id": "158cc475-7a96-4ea2-865b-8354951f50b1",
   "metadata": {},
   "outputs": [
    {
     "data": {
      "text/plain": [
       "10002    go prove face see planet alien natrual landfor...\n",
       "5555     advantage limit car usage reduce usage car low...\n",
       "2574     support Electoral College change Election Popu...\n",
       "20045    \\n Technology communication play increasingly ...\n",
       "16343    work group beneficial work beneficial work gro...\n",
       "                               ...                        \n",
       "6049     explorere venus come high pay high risk author...\n",
       "19127    \\n today world oftentime great gift person sim...\n",
       "14790    people not right advice people ãâ¨false infor...\n",
       "22041    debate government allocate resource ongoing pe...\n",
       "21335    different opinion child teach compete cooperat...\n",
       "Name: preprocessed_text, Length: 23316, dtype: object"
      ]
     },
     "execution_count": 28,
     "metadata": {},
     "output_type": "execute_result"
    }
   ],
   "source": [
    "X_train"
   ]
  },
  {
   "cell_type": "code",
   "execution_count": 29,
   "id": "9b7599df-2731-4782-9d07-30e8f0247318",
   "metadata": {},
   "outputs": [
    {
     "data": {
      "text/plain": [
       "5829"
      ]
     },
     "execution_count": 29,
     "metadata": {},
     "output_type": "execute_result"
    }
   ],
   "source": [
    "len(X_test)"
   ]
  },
  {
   "cell_type": "code",
   "execution_count": 30,
   "id": "c0b5cd32-aa28-49ac-894e-397c563c261f",
   "metadata": {},
   "outputs": [
    {
     "data": {
      "text/plain": [
       "0    14119\n",
       "1     9197\n",
       "Name: label, dtype: int64"
      ]
     },
     "execution_count": 30,
     "metadata": {},
     "output_type": "execute_result"
    }
   ],
   "source": [
    "y_train.value_counts()"
   ]
  },
  {
   "cell_type": "code",
   "execution_count": 31,
   "id": "2779539a-9302-49a3-ae07-16c1f64f236e",
   "metadata": {},
   "outputs": [
    {
     "data": {
      "text/plain": [
       "0    3389\n",
       "1    2440\n",
       "Name: label, dtype: int64"
      ]
     },
     "execution_count": 31,
     "metadata": {},
     "output_type": "execute_result"
    }
   ],
   "source": [
    "y_test.value_counts()"
   ]
  },
  {
   "cell_type": "code",
   "execution_count": 32,
   "id": "b7cd0a93-effc-4825-b6a7-278628f9592a",
   "metadata": {},
   "outputs": [
    {
     "name": "stdout",
     "output_type": "stream",
     "text": [
      "              precision    recall  f1-score   support\n",
      "\n",
      "           0       0.98      0.99      0.99      3389\n",
      "           1       0.99      0.98      0.98      2440\n",
      "\n",
      "    accuracy                           0.99      5829\n",
      "   macro avg       0.99      0.98      0.99      5829\n",
      "weighted avg       0.99      0.99      0.99      5829\n",
      "\n"
     ]
    }
   ],
   "source": [
    "clf4 = Pipeline([\n",
    "    ('vectorizer', CountVectorizer()),\n",
    "    ('random', RandomForestClassifier())\n",
    "])\n",
    "clf4.fit(X_train, y_train)\n",
    "y_pred = clf4.predict(X_test)\n",
    "print(classification_report(y_test, y_pred))"
   ]
  },
  {
   "cell_type": "code",
   "execution_count": 33,
   "id": "52d6c450-1bda-445e-a4f0-9ffb0f1875bb",
   "metadata": {},
   "outputs": [
    {
     "name": "stdout",
     "output_type": "stream",
     "text": [
      "              precision    recall  f1-score   support\n",
      "\n",
      "           0       0.98      0.99      0.99      3389\n",
      "           1       0.99      0.97      0.98      2440\n",
      "\n",
      "    accuracy                           0.99      5829\n",
      "   macro avg       0.99      0.98      0.99      5829\n",
      "weighted avg       0.99      0.99      0.99      5829\n",
      "\n"
     ]
    }
   ],
   "source": [
    "clf5 = Pipeline([\n",
    "    ('vectorizer', TfidfVectorizer()),\n",
    "    ('random', RandomForestClassifier())\n",
    "])\n",
    "clf5.fit(X_train, y_train)\n",
    "y_pred = clf5.predict(X_test)\n",
    "print(classification_report(y_test, y_pred))"
   ]
  },
  {
   "cell_type": "code",
   "execution_count": 37,
   "id": "dcba7741-143f-46a1-aafa-28214d432b20",
   "metadata": {},
   "outputs": [
    {
     "data": {
      "text/plain": [
       "array([[2.96005172e-22, 1.00000000e+00],\n",
       "       [3.88086530e-03, 9.96119135e-01],\n",
       "       [1.55375323e-19, 1.00000000e+00],\n",
       "       [3.29200681e-13, 1.00000000e+00],\n",
       "       [1.31135444e-12, 1.00000000e+00],\n",
       "       [8.13076338e-01, 1.86923662e-01]])"
      ]
     },
     "execution_count": 37,
     "metadata": {},
     "output_type": "execute_result"
    }
   ],
   "source": [
    "corpus = [\n",
    "    'In the tranquil embrace of the moonlit night, whispers of the wind danced through the rustling leaves, weaving tales of forgotten dreams and untold secrets. The soft glow of fireflies created a mesmerizing symphony of light, casting enchanting patterns on the dew-kissed grass. A lone owl hooted in the distance, its haunting call echoing through the silent landscape. The stars above, like celestial diamonds, adorned the velvet canvas of the sky, each one a silent witness to the timeless stories written in the cosmos. In this magical moment, the world seemed to hold its breath, caught between reality and the ephemeral beauty of the night.',\n",
    "    'Automatic speech recognition simply means that the machine understands human speech and realizes that the human voice gives commands directly to the computer, and the computer executes the commands according to the recognized and processed voice, thus realizing the intelligent interaction between human and computer',\n",
    "    'Convolutional neural networks are introduced to continuous speech recognition and compared with the commonly used deep neural networks. Convolutional neural networks have a better physical meaning compared to deep neural networks by observing local features through convolutional layers and then integrating the information in full network',\n",
    "    'This algorithm is continuous in detecting the signs which leads to detecting signs even there are no signs in the area, which leads to continuous flow of output. This results in false detection or unnecessary detection. This could be improved by increasing the threshold value for detecting sign. The overall performance can also be improved and customized with the help of more datasets from different countries.',\n",
    "    \"CNNs are trained using backpropagation, a process where the network's parameters (weights and biases) are adjusted based on the difference between predicted and actual values. This optimization process aims to minimize a defined loss function, improving the network's ability to make accurate predictions.\",\n",
    "    \"My name is Ram. I am five years old and a student of class first. I have learned the numbers and I also know how to draw the digits and also recognise the digits. I am very discipline and sincere boy.\"\n",
    "]\n",
    "clf3.predict_proba(corpus)"
   ]
  },
  {
   "cell_type": "code",
   "execution_count": 38,
   "id": "5474dd52-3021-4206-979e-3b3dde401c48",
   "metadata": {},
   "outputs": [
    {
     "data": {
      "text/plain": [
       "['tranquil embrace moonlit night whisper wind dance rustle leave weave tale forget dream untold secret soft glow firefly create mesmerize symphony light cast enchant pattern dew kiss grass lone owl hoot distance haunting echo silent landscape star like celestial diamond adorn velvet canvas sky silent witness timeless story write cosmo magical moment world hold breath catch reality ephemeral beauty night',\n",
       " 'automatic speech recognition simply mean machine understand human speech realize human voice give command directly computer computer execute command accord recognize process voice realize intelligent interaction human computer',\n",
       " 'convolutional neural network introduce continuous speech recognition compare commonly deep neural network convolutional neural network well physical meaning compare deep neural network observe local feature convolutional layer integrate information network',\n",
       " 'algorithm continuous detect sign lead detect sign sign area lead continuous flow output result false detection unnecessary detection improve increase threshold value detect sign overall performance improve customize help dataset different country',\n",
       " 'cnn train backpropagation process network parameter weight bias adjust base difference predict actual value optimization process aim minimize define loss function improve network ability accurate prediction',\n",
       " 'ram year old student class learn number know draw digit recognise digit discipline sincere boy']"
      ]
     },
     "execution_count": 38,
     "metadata": {},
     "output_type": "execute_result"
    }
   ],
   "source": [
    "corpus_new = []\n",
    "for item in corpus:\n",
    "    corpus_new.append(preprocess(item))\n",
    "corpus_new"
   ]
  },
  {
   "cell_type": "code",
   "execution_count": 40,
   "id": "6e6ef1f9-0624-41dd-88fc-2a7a2c1d2dce",
   "metadata": {},
   "outputs": [
    {
     "data": {
      "text/plain": [
       "array([[0.32, 0.68],\n",
       "       [0.4 , 0.6 ],\n",
       "       [0.03, 0.97],\n",
       "       [0.05, 0.95],\n",
       "       [0.04, 0.96],\n",
       "       [0.19, 0.81]])"
      ]
     },
     "execution_count": 40,
     "metadata": {},
     "output_type": "execute_result"
    }
   ],
   "source": [
    "clf4.predict_proba(corpus_new)"
   ]
  },
  {
   "cell_type": "code",
   "execution_count": 41,
   "id": "4004fdca-83c7-422e-b2cf-d401fb5d63cf",
   "metadata": {},
   "outputs": [
    {
     "data": {
      "text/plain": [
       "array([[0.23, 0.77],\n",
       "       [0.42, 0.58],\n",
       "       [0.12, 0.88],\n",
       "       [0.13, 0.87],\n",
       "       [0.15, 0.85],\n",
       "       [0.26, 0.74]])"
      ]
     },
     "execution_count": 41,
     "metadata": {},
     "output_type": "execute_result"
    }
   ],
   "source": [
    "clf5.predict_proba(corpus_new)"
   ]
  },
  {
   "cell_type": "code",
   "execution_count": 42,
   "id": "0cdda368-524a-44f7-89d1-cedbe2f5a70c",
   "metadata": {},
   "outputs": [
    {
     "data": {
      "text/plain": [
       "array([[0.93, 0.07]])"
      ]
     },
     "execution_count": 42,
     "metadata": {},
     "output_type": "execute_result"
    }
   ],
   "source": [
    "corpus = ['\"t is easier to suggest that America\\'s car usage is decreasing slowly. This isn\\'t necessarily bad in the sense that it has certain positive effects. The advantages of limiting car usage includes an increase in security and health, along with a decrease in pollution and dependence.\\n\\nFirstly, when car usage is limited security and health is more likely to be guaranteed. The feeling of being secure is highly important to individuals everywhere. For example, many people in colombia used public transportation during a car free day \"leaving the streets of this capital city \", according to Andrew Selsky, \"eerily devoid of traffic jams\". The complications that stem from traffic jams end with a feeling of confidence. The plan to get from point A to B was more simple just a second ago. This complication in your personal plans leads you to become stressed as a feeling of doubt overcomes all thoughts. If car usage was limited, there would be a control on how much traffic accumulates thus minimizing chance of stress. As Heidrun Walter states \"when i had a car i was always tense. I\\'m much happier this way\". not only does car usage minimize conditions detrimental to health, it also enlarges your capacity for exercise. The main purpose of the car is to get someone from one place to another. when an important job takes over your personal life, it becomes difficult to do things most enjoyed in life. limits on car usage forces you to stay in shape. According to Andrew Selsky \"parks and sports centers also have bloomed throughout the city\". Less cars means healthier and natural situations. With parks and sport centers becoming more efficient, it becomes easier to find a more physically active population. Overall, less usage on cars minimizes stress and increases health.\\n\\nSecondly, limting car usage becomes beneficial to the environment. Now a days people have become annoyed with others who care so passionately about the environment. If you look behind their constant cries for action, there are solid facts. Yespollution is bad for the environment. Yes a bad envorment means unhealthy living. Yes cars are one of the main contributors to pollution in the environment. A pattern of less car usage, as Elisabeth Rosenthal states \"will have beneficial implications for carbon emissions and the environment\". The less use of cars, the less pollution in the environment. One must observe limiting car usage as an opportunity to create a cleaner world and better future. The effects of pollution in the environment is completley dangerous and we, the car users, are to blame.\\n\\nAdditionally, it would lower the dependence on cars. Many people today find that their car is so useful. While it has many features and is a form of transportation, many do not figure what they would do if they did not have such a possesion. The development of people and their interaction with technology has left a wide gap between historic, natural ways and what is thought of as modern society. Being dependent is not always good for individuals. As david goldberg says \"all our development since world war II has been centered on the car, and that will have to change\". Many people could disagree and wonder why it is necessary to change our ways especially if we are so highly devloped. If being developed means being dependent on a harmful machine, then it could not be effective devlopment. According to Elisabeth Rosenthal \"cashstrapped americans could not afford new cars, and the unemployed were\\'t going to work anyway\". Many people can\\'t have the precious luxury of private transportation in the first place. Those who have had it have become distant to a more natural society. Peope have become so use to having cars that they have become oblivious to the significant effects. With limits on car usage , these effcts could be controlled.\\n\\nTo conclude, the advantages of limiting car usage is an increase in health, along with a decrease in pollution, and less dependence on cars. limiting car usage is a positive way to enfore an organized and clean environment, and ensure health and security of those who live in it. This is one reason America can be reffered to as a succesful country. It is not that America has decreased use of vehicles, but the fact that they have done what is best for majority.']\n",
    "clf1.predict_proba(corpus)"
   ]
  },
  {
   "cell_type": "code",
   "execution_count": 43,
   "id": "b8ede060-d2be-4ebc-ba31-c1ff8486a868",
   "metadata": {},
   "outputs": [
    {
     "data": {
      "text/plain": [
       "array([[0.51, 0.49]])"
      ]
     },
     "execution_count": 43,
     "metadata": {},
     "output_type": "execute_result"
    }
   ],
   "source": [
    "corpus = [\"We present a review of unconstrained face recognition methods that are known in recent past. Park et al.24, proposed an key point detection method which enhanced the accuracy on the 1000 tattoo images. Experimental result has shown that the method is superior than the SIFT key point. A two level illumination estimation framework is proposed by Zhang et al.25. Experimental result shows the satisfactory performance against various datasets. Min et al.26, presented the possibility to explore face recognition in the presence of partial occlusions such as sunglass and scakrf. The proposed method identified the occluded parts t the pixel level and applying face recognition on nonocclued parts only. Experimental result shows that the proposed method is superior to KLD-LGBPHS, S-LNME, OA-LBP and RSC. Cassio et al.27, proposed five approach to determine whether the subject of test sample is enrolled in face gallery. Out of these approaches, three have been presented a good result. The approaches have been identified on feature explored in the data, scalability and accuracy. For face recognition the approaches have been tested on standard databases namely FRGC and Pubfig83. Various assumptions has been made by the authors before the approaches apply on the datasets. Indhumathi et al.28, proposed an algorithm for face detection using distance images. The effectiveness of the recognizing blurred and poorly well-lighted faces are also addressed by the author and shown good recognition rate than LBP operator. Bhattacharjee29, presented an automatic face recognition system using adaptive polar transformation and wavelet based fusion method. In which visual and thermal face images have been effectively combined by the fusion method on robust manner. Experimental result has shown good performance in recognizing against various possible complicacies. A Component based representation in automated face recognition has been demonstrated by Bonnen et al.30. Experimental result shown that the method is robust to change in facial pose, and recognition accuracy on occulded face is enhanced in forensic scenarios.\"]\n",
    "clf1.predict_proba(corpus)"
   ]
  },
  {
   "cell_type": "code",
   "execution_count": 45,
   "id": "872bd886-ac46-4b41-9ca6-61d7a9c49a12",
   "metadata": {},
   "outputs": [
    {
     "data": {
      "text/plain": [
       "['present review unconstrained face recognition method know recent past park et al.24 propose key point detection method enhance accuracy 1000 tattoo image experimental result show method superior SIFT key point level illumination estimation framework propose Zhang et al.25 experimental result show satisfactory performance dataset min et al.26 present possibility explore face recognition presence partial occlusion sunglass scakrf propose method identify occluded part t pixel level apply face recognition nonocclued part experimental result show propose method superior KLD LGBPHS S LNME OA LBP RSC Cassio et al.27 propose approach determine subject test sample enrol face gallery approach present good result approach identify feature explore datum scalability accuracy face recognition approach test standard database FRGC Pubfig83 assumption author approach apply dataset Indhumathi et al.28 propose algorithm face detection distance image effectiveness recognize blurred poorly light face address author show good recognition rate lbp operator Bhattacharjee29 present automatic face recognition system adaptive polar transformation wavelet base fusion method visual thermal face image effectively combine fusion method robust manner experimental result show good performance recognize possible complicacie component base representation automate face recognition demonstrate Bonnen et al.30 experimental result show method robust change facial pose recognition accuracy occulde face enhance forensic scenario']"
      ]
     },
     "execution_count": 45,
     "metadata": {},
     "output_type": "execute_result"
    }
   ],
   "source": [
    "new_corpus = []\n",
    "for i in corpus:\n",
    "    new_corpus.append(preprocess(i))\n",
    "new_corpus"
   ]
  },
  {
   "cell_type": "code",
   "execution_count": 47,
   "id": "8d50cfaa-f3b8-4370-8f3f-cdcc361b2723",
   "metadata": {},
   "outputs": [
    {
     "data": {
      "text/plain": [
       "array([[0.51, 0.49]])"
      ]
     },
     "execution_count": 47,
     "metadata": {},
     "output_type": "execute_result"
    }
   ],
   "source": [
    "clf5.predict_proba(new_corpus)"
   ]
  },
  {
   "cell_type": "code",
   "execution_count": 49,
   "id": "51ead74a-e27d-4b87-8894-845ec1ff88d2",
   "metadata": {},
   "outputs": [],
   "source": [
    "import pickle\n",
    "\n",
    "with open('model.pkl', 'wb') as file:\n",
    "    pickle.dump(clf5, file)"
   ]
  }
 ],
 "metadata": {
  "kernelspec": {
   "display_name": "Python 3 (ipykernel)",
   "language": "python",
   "name": "python3"
  },
  "language_info": {
   "codemirror_mode": {
    "name": "ipython",
    "version": 3
   },
   "file_extension": ".py",
   "mimetype": "text/x-python",
   "name": "python",
   "nbconvert_exporter": "python",
   "pygments_lexer": "ipython3",
   "version": "3.9.4"
  }
 },
 "nbformat": 4,
 "nbformat_minor": 5
}
